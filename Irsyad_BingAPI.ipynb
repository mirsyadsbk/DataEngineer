{
  "nbformat": 4,
  "nbformat_minor": 0,
  "metadata": {
    "colab": {
      "name": "Irsyad_BingAPI.ipynb",
      "provenance": [],
      "authorship_tag": "ABX9TyPYZHpTLPgFM8ra38pbgTrL",
      "include_colab_link": true
    },
    "kernelspec": {
      "name": "python3",
      "display_name": "Python 3"
    },
    "language_info": {
      "name": "python"
    }
  },
  "cells": [
    {
      "cell_type": "markdown",
      "metadata": {
        "id": "view-in-github",
        "colab_type": "text"
      },
      "source": [
        "<a href=\"https://colab.research.google.com/github/mirsyadsbk/DataEngineer/blob/main/Irsyad_BingAPI.ipynb\" target=\"_parent\"><img src=\"https://colab.research.google.com/assets/colab-badge.svg\" alt=\"Open In Colab\"/></a>"
      ]
    },
    {
      "cell_type": "code",
      "execution_count": 1,
      "metadata": {
        "id": "qHc4APsHfEGN",
        "outputId": "22c1ac4a-4e33-4dc2-bbe0-40126f9ec3b3",
        "colab": {
          "base_uri": "https://localhost:8080/"
        }
      },
      "outputs": [
        {
          "output_type": "stream",
          "name": "stdout",
          "text": [
            "Looking in indexes: https://pypi.org/simple, https://us-python.pkg.dev/colab-wheels/public/simple/\n",
            "Collecting google-search-results\n",
            "  Downloading google_search_results-2.4.1.tar.gz (11 kB)\n",
            "Requirement already satisfied: requests in /usr/local/lib/python3.7/dist-packages (from google-search-results) (2.23.0)\n",
            "Requirement already satisfied: idna<3,>=2.5 in /usr/local/lib/python3.7/dist-packages (from requests->google-search-results) (2.10)\n",
            "Requirement already satisfied: chardet<4,>=3.0.2 in /usr/local/lib/python3.7/dist-packages (from requests->google-search-results) (3.0.4)\n",
            "Requirement already satisfied: certifi>=2017.4.17 in /usr/local/lib/python3.7/dist-packages (from requests->google-search-results) (2022.6.15)\n",
            "Requirement already satisfied: urllib3!=1.25.0,!=1.25.1,<1.26,>=1.21.1 in /usr/local/lib/python3.7/dist-packages (from requests->google-search-results) (1.24.3)\n",
            "Building wheels for collected packages: google-search-results\n",
            "  Building wheel for google-search-results (setup.py) ... \u001b[?25l\u001b[?25hdone\n",
            "  Created wheel for google-search-results: filename=google_search_results-2.4.1-py3-none-any.whl size=25789 sha256=d932607d4c6980b2e3c36ea4d68375768859f71595e805de8fc2bf571f28fac3\n",
            "  Stored in directory: /root/.cache/pip/wheels/82/a3/c5/364155118f298722dff2f79ae4dd7c91e92b433ad36d6f7e0e\n",
            "Successfully built google-search-results\n",
            "Installing collected packages: google-search-results\n",
            "Successfully installed google-search-results-2.4.1\n"
          ]
        }
      ],
      "source": [
        "pip install google-search-results"
      ]
    },
    {
      "cell_type": "code",
      "source": [
        "from serpapi import GoogleSearch\n",
        "\n",
        "params = {\n",
        "  \"api_key\": \"9ec61da99ed4298b19b341d5b0d7e245bf7c729cad473d4201f2b14018db79a7\",\n",
        "  \"engine\": \"bing\",\n",
        "  \"q\": \"Wikipedia\"\n",
        "}"
      ],
      "metadata": {
        "id": "OYbXMDd_fF65"
      },
      "execution_count": 2,
      "outputs": []
    },
    {
      "cell_type": "code",
      "source": [
        "search = GoogleSearch(params)\n",
        "results = search.get_dict()\n",
        "\n",
        "for result in results['organic_results']:\n",
        "    print(result)"
      ],
      "metadata": {
        "colab": {
          "base_uri": "https://localhost:8080/"
        },
        "id": "iR1uGQjuxKij",
        "outputId": "fdad4000-18a1-4c1d-a30c-6948fa4115f1"
      },
      "execution_count": 3,
      "outputs": [
        {
          "output_type": "stream",
          "name": "stdout",
          "text": [
            "https://serpapi.com/search\n",
            "{'position': 1, 'title': 'Wikipedia', 'link': 'https://www.wikipedia.org/', 'displayed_link': 'https://www.wikipedia.org', 'snippet': 'Wikipedia is a free online encyclopedia, created and edited by volunteers around the world and hosted by the Wikimedia Foundation.', 'sitelinks': {'expanded': [{'title': 'English Site', 'link': 'http://en.wikipedia.org/wiki/Main_Page', 'snippet': 'English Language · Biography · History'}, {'title': 'Search Wikipedia', 'link': 'http://en.wikipedia.org/w/index.php?search=', 'snippet': 'Use the search feature in Wikipedia to find something.'}, {'title': 'Espanol Site', 'link': 'http://es.wikipedia.org/wiki/Wikipedia:Portada', 'snippet': 'Plantilla · Pandemia De Covid-19 · Café'}, {'title': 'Random Article', 'link': 'http://en.wikipedia.org/wiki/Special:Random', 'snippet': 'Random Article - Wikipedia'}, {'title': 'Featured Content', 'link': 'http://en.wikipedia.org/wiki/Portal:Featured_content', 'snippet': 'Featured content represents the best that Wikipedia has to offer'}, {'title': 'Current Events', 'link': 'http://en.wikipedia.org/wiki/Portal:Current_events', 'snippet': 'Worldwide current events /topics in the news'}, {'title': 'About Wikipedia', 'link': 'http://en.wikipedia.org/wiki/Wikipedia:About', 'snippet': 'This is a general introduction for visitors to Wikipedia.'}, {'title': 'Community Portal', 'link': 'http://en.wikipedia.org/wiki/Wikipedia:Community_portal', 'snippet': 'About the project, what you can do, where to find things'}]}}\n",
            "{'position': 2, 'title': '\\u200eWikipedia on the App Store', 'link': 'https://apps.apple.com/us/app/wikipedia/id324715238', 'displayed_link': 'https://apps.apple.com/us/app/wikipedia/id324715238', 'rich_snippet': {'extensions': ['4.4/5(4.1K)', 'Seller: Wikimedia Foundation', 'Copyright: © 2020 Wikimedia Foundation', 'Category: Reference']}, 'snippet': 'Aug 17, 2009\\xa0· Explore your world, find a quick fact, or dive down a Wikipedia rabbit hole with the official Wikipedia app for iOS. With more than 40 million articles across nearly 300 languages, your favorite free online encyclopedia is at your fingertips. Night reading - Appearance controls let you read Wikipedia in comfort, with dark mode, text size ...'}\n",
            "{'position': 3, 'title': 'Wikipedia - Simple English Wikipedia, the free encyclopedia', 'link': 'https://simple.wikipedia.org/wiki/Wikipedia', 'displayed_link': 'https://simple.wikipedia.org/wiki/Wikipedia', 'rich_snippet': {'extensions': ['Created by: Jimmy Wales, Larry Sanger', 'Type of site: Online encyclopedia', 'Owner: Wikimedia Foundation', 'Available in: 327 languages']}}\n",
            "{'position': 4, 'title': 'Wikipedia (@wikipedia) • Instagram photos and videos', 'link': 'https://www.instagram.com/wikipedia/', 'displayed_link': 'https://www.instagram.com/wikipedia', 'rich_snippet': {'extensions': ['Followers: 252K']}, 'snippet': 'A free, collaborative, multilingual internet encyclopedia. linkin.bio/ig-wikipedia. Posts'}\n",
            "{'position': 5, 'title': 'Wikipedia:About - Simple English Wikipedia, the free encyclopedia', 'link': 'https://simple.wikipedia.org/wiki/Wikipedia:About', 'displayed_link': 'https://simple.wikipedia.org/wiki/Wikipedia:About'}\n",
            "{'position': 6, 'title': 'Wikipedia - Apps on Google Play', 'link': 'https://play.google.com/store/apps/details?id=org.wikipedia&gl=US', 'displayed_link': 'https://play.google.com/store/apps/details?id=org.wikipedia', 'snippet': 'Wikipedia is the encyclopedia that anyone can edit. Articles on Wikipedia are freely licensed and the app code is 100% open source. The heart and soul of Wikipedia is a community of people working to bring you unlimited access to free, reliable and neutral information. 2. No ads Wikipedia is a place to learn, not a place for advertising.'}\n",
            "{'position': 7, 'title': 'Wikipedia - Home - Facebook', 'link': 'https://www.facebook.com/wikipedia', 'displayed_link': 'https://www.facebook.com/wikipedia', 'snippet': 'Wikipedia. 5,530,600 likes · 3,230 talking about this. A free, collaborative, and multilingual internet encyclopedia. Comments on this page will be moderated in accordance with our friendly space...'}\n",
            "{'position': 8, 'title': 'Wikipedia (@Wikipedia) / Twitter', 'link': 'https://twitter.com/Wikipedia', 'displayed_link': 'https://twitter.com/Wikipedia', 'snippet': \"Oct 30, 2009\\xa0· Let's set knowledge free. Got a question? https://t.co/F6dmvs5ED3\"}\n",
            "{'position': 9, 'title': 'China - Wikipedia', 'link': 'https://en.wikipedia.org/wiki/China', 'displayed_link': 'https://en.wikipedia.org/wiki/China', 'snippet': 'Archaeological evidence suggests that early hominids inhabited China 2.25 million years ago. The hominid fossils of Peking Man, a Homo erectus who used fire, were discovered in a cave at Zhoukoudian near Beijing; they have been dated to between 680,000 and 780,000 years ago.'}\n",
            "{'position': 10, 'title': 'Jeral Skelton - Wikipedia', 'link': 'https://en.wikipedia.org/wiki/Jeral_Skelton', 'displayed_link': 'https://en.wikipedia.org/wiki/Jeral_Skelton', 'snippet': 'Team. Comps. 2017–2020. Australia Sevens. 18. Jeral Skelton (born 8 April 1999 in Australia) is an Australian rugby union player who plays for the Rebels in Super Rugby. His playing position is flanker. He was named in the Rebels squad for the Super Rugby AU competition in 2020. [1] [2] [3]'}\n"
          ]
        }
      ]
    },
    {
      "cell_type": "code",
      "source": [
        "import pandas as pd"
      ],
      "metadata": {
        "id": "_sV-0maewgNI"
      },
      "execution_count": 4,
      "outputs": []
    },
    {
      "cell_type": "code",
      "source": [
        "df = pd.DataFrame(results[\"organic_results\"])\n",
        "df.to_excel('excel_irsyad.xlsx', sheet_name='sheet1', index=False)"
      ],
      "metadata": {
        "id": "jd-vjIvhkb30"
      },
      "execution_count": 5,
      "outputs": []
    }
  ]
}